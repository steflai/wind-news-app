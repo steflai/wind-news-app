{
 "cells": [
  {
   "cell_type": "markdown",
   "metadata": {},
   "source": [
    "Math for sine\n",
    "Weather: Dark Sky \n",
    "Wind direction (windBearing = The direction that the wind is coming from in degrees, with true north at 0° and progressing clockwise)\n",
    "Wind speed \n",
    "geopy https://pypi.org/project/geopy/"
   ]
  },
  {
   "cell_type": "code",
   "execution_count": 9,
   "metadata": {},
   "outputs": [],
   "source": [
    "import math \n",
    "#from darksky.api import DarkSky, DarkSkyAsync\n",
    "#from darksky.types import languages, units, weather\n",
    "from geopy.geocoders import Nominatim\n",
    "import json\n",
    "import requests\n",
    "from requests import get\n",
    "import darksky as ds"
   ]
  },
  {
   "cell_type": "code",
   "execution_count": 11,
   "metadata": {},
   "outputs": [
    {
     "ename": "AttributeError",
     "evalue": "module 'darksky' has no attribute 'key'",
     "output_type": "error",
     "traceback": [
      "\u001b[1;31m---------------------------------------------------------------------------\u001b[0m",
      "\u001b[1;31mAttributeError\u001b[0m                            Traceback (most recent call last)",
      "\u001b[1;32m<ipython-input-11-04a6586ee841>\u001b[0m in \u001b[0;36m<module>\u001b[1;34m\u001b[0m\n\u001b[1;32m----> 1\u001b[1;33m \u001b[0mds\u001b[0m\u001b[1;33m.\u001b[0m\u001b[0mkey\u001b[0m\u001b[1;33m(\u001b[0m\u001b[1;34m'a34aea53efd66abd4d9b1b6689c93133'\u001b[0m\u001b[1;33m)\u001b[0m\u001b[1;33m\u001b[0m\u001b[1;33m\u001b[0m\u001b[0m\n\u001b[0m",
      "\u001b[1;31mAttributeError\u001b[0m: module 'darksky' has no attribute 'key'"
     ]
    }
   ],
   "source": [
    "ds.key('a34aea53efd66abd4d9b1b6689c93133')"
   ]
  },
  {
   "cell_type": "code",
   "execution_count": 12,
   "metadata": {},
   "outputs": [
    {
     "name": "stdout",
     "output_type": "stream",
     "text": [
      "Which city are you located in?Hong Kong\n"
     ]
    }
   ],
   "source": [
    "user_location=input('Which city are you located in?')"
   ]
  },
  {
   "cell_type": "code",
   "execution_count": 13,
   "metadata": {},
   "outputs": [
    {
     "name": "stdout",
     "output_type": "stream",
     "text": [
      "22.350627\n",
      "114.1849161\n",
      "22.350627,114.1849161\n"
     ]
    }
   ],
   "source": [
    "#get latitude and longitude for user location \n",
    "nom = Nominatim(user_agent=\"wind_news\")\n",
    "location = nom.geocode(user_location,timeout=20)\n",
    "orig_lat = location.latitude\n",
    "orig_lng = location.longitude\n",
    "print (orig_lat)\n",
    "print (orig_lng)\n",
    "orig_location = str(orig_lat)+\",\"+str(orig_lng)\n",
    "print (orig_location)"
   ]
  },
  {
   "cell_type": "code",
   "execution_count": 14,
   "metadata": {},
   "outputs": [
    {
     "name": "stdout",
     "output_type": "stream",
     "text": [
      "{'latitude': 22.350627, 'longitude': 114.1849161, 'timezone': 'Asia/Hong_Kong', 'currently': {'time': 1573059845, 'summary': 'Partly Cloudy', 'icon': 'partly-cloudy-night', 'precipIntensity': 0, 'precipProbability': 0, 'temperature': 69.33, 'apparentTemperature': 69.33, 'dewPoint': 59.81, 'humidity': 0.72, 'pressure': 1012, 'windSpeed': 6.6, 'windGust': 10.71, 'windBearing': 72, 'cloudCover': 0.37, 'uvIndex': 0, 'visibility': 6.242, 'ozone': 258.8}, 'hourly': {'summary': 'Clear throughout the day.', 'icon': 'clear-day', 'data': [{'time': 1573059600, 'summary': 'Partly Cloudy', 'icon': 'partly-cloudy-night', 'precipIntensity': 0, 'precipProbability': 0, 'temperature': 69.38, 'apparentTemperature': 69.38, 'dewPoint': 59.79, 'humidity': 0.72, 'pressure': 1012, 'windSpeed': 6.61, 'windGust': 10.78, 'windBearing': 72, 'cloudCover': 0.37, 'uvIndex': 0, 'visibility': 6.216, 'ozone': 258.8}, {'time': 1573063200, 'summary': 'Partly Cloudy', 'icon': 'partly-cloudy-night', 'precipIntensity': 0, 'precipProbability': 0, 'temperature': 68.04, 'apparentTemperature': 68.17, 'dewPoint': 60.58, 'humidity': 0.77, 'pressure': 1012.3, 'windSpeed': 6.38, 'windGust': 9.77, 'windBearing': 58, 'cloudCover': 0.37, 'uvIndex': 0, 'visibility': 7.128, 'ozone': 258.9}, {'time': 1573066800, 'summary': 'Clear', 'icon': 'clear-night', 'precipIntensity': 0, 'precipProbability': 0, 'temperature': 62.57, 'apparentTemperature': 63.61, 'dewPoint': 62.57, 'humidity': 1, 'pressure': 1012.1, 'windSpeed': 6.28, 'windGust': 8.68, 'windBearing': 42, 'cloudCover': 0.26, 'uvIndex': 0, 'visibility': 10, 'ozone': 259}, {'time': 1573070400, 'summary': 'Clear', 'icon': 'clear-night', 'precipIntensity': 0, 'precipProbability': 0, 'temperature': 59.21, 'apparentTemperature': 61.03, 'dewPoint': 59.21, 'humidity': 1, 'pressure': 1012.3, 'windSpeed': 6.36, 'windGust': 7.8, 'windBearing': 23, 'cloudCover': 0.16, 'uvIndex': 0, 'visibility': 10, 'ozone': 258.9}, {'time': 1573074000, 'summary': 'Clear', 'icon': 'clear-night', 'precipIntensity': 0, 'precipProbability': 0, 'temperature': 58.99, 'apparentTemperature': 60.66, 'dewPoint': 58.99, 'humidity': 1, 'pressure': 1012.6, 'windSpeed': 6.5, 'windGust': 7.48, 'windBearing': 19, 'cloudCover': 0.14, 'uvIndex': 0, 'visibility': 10, 'ozone': 259}, {'time': 1573077600, 'summary': 'Clear', 'icon': 'clear-night', 'precipIntensity': 0, 'precipProbability': 0, 'temperature': 59.09, 'apparentTemperature': 60.54, 'dewPoint': 59.09, 'humidity': 1, 'pressure': 1013.3, 'windSpeed': 6.95, 'windGust': 8.83, 'windBearing': 17, 'cloudCover': 0.15, 'uvIndex': 0, 'visibility': 10, 'ozone': 259.2}, {'time': 1573081200, 'summary': 'Clear', 'icon': 'clear-day', 'precipIntensity': 0, 'precipProbability': 0, 'temperature': 59.79, 'apparentTemperature': 60.95, 'dewPoint': 59.79, 'humidity': 1, 'pressure': 1014, 'windSpeed': 7.25, 'windGust': 11.41, 'windBearing': 19, 'cloudCover': 0.19, 'uvIndex': 0, 'visibility': 10, 'ozone': 259.3}, {'time': 1573084800, 'summary': 'Clear', 'icon': 'clear-day', 'precipIntensity': 0, 'precipProbability': 0, 'temperature': 61.45, 'apparentTemperature': 62.31, 'dewPoint': 61.45, 'humidity': 1, 'pressure': 1014.7, 'windSpeed': 8.61, 'windGust': 13.86, 'windBearing': 19, 'cloudCover': 0.21, 'uvIndex': 1, 'visibility': 10, 'ozone': 259.3}, {'time': 1573088400, 'summary': 'Clear', 'icon': 'clear-day', 'precipIntensity': 0, 'precipProbability': 0, 'temperature': 62.97, 'apparentTemperature': 63.62, 'dewPoint': 62.68, 'humidity': 0.99, 'pressure': 1015.5, 'windSpeed': 10.99, 'windGust': 16.08, 'windBearing': 21, 'cloudCover': 0.19, 'uvIndex': 3, 'visibility': 10, 'ozone': 259}, {'time': 1573092000, 'summary': 'Clear', 'icon': 'clear-day', 'precipIntensity': 0, 'precipProbability': 0, 'temperature': 64.61, 'apparentTemperature': 65.09, 'dewPoint': 62.16, 'humidity': 0.92, 'pressure': 1015.8, 'windSpeed': 12.62, 'windGust': 18.12, 'windBearing': 22, 'cloudCover': 0.07, 'uvIndex': 5, 'visibility': 10, 'ozone': 258.6}, {'time': 1573095600, 'summary': 'Clear', 'icon': 'clear-day', 'precipIntensity': 0.0002, 'precipProbability': 0.01, 'precipType': 'rain', 'temperature': 66.7, 'apparentTemperature': 67, 'dewPoint': 61.59, 'humidity': 0.84, 'pressure': 1015.6, 'windSpeed': 13.35, 'windGust': 19.49, 'windBearing': 22, 'cloudCover': 0.01, 'uvIndex': 7, 'visibility': 10, 'ozone': 258.3}, {'time': 1573099200, 'summary': 'Clear', 'icon': 'clear-day', 'precipIntensity': 0, 'precipProbability': 0, 'temperature': 68.54, 'apparentTemperature': 68.71, 'dewPoint': 61.03, 'humidity': 0.77, 'pressure': 1014.5, 'windSpeed': 13.02, 'windGust': 19.41, 'windBearing': 22, 'cloudCover': 0.02, 'uvIndex': 8, 'visibility': 10, 'ozone': 258.4}, {'time': 1573102800, 'summary': 'Clear', 'icon': 'clear-day', 'precipIntensity': 0, 'precipProbability': 0, 'temperature': 70.13, 'apparentTemperature': 70.29, 'dewPoint': 61.2, 'humidity': 0.73, 'pressure': 1013.4, 'windSpeed': 12.07, 'windGust': 18.47, 'windBearing': 24, 'cloudCover': 0.02, 'uvIndex': 7, 'visibility': 10, 'ozone': 258.5}, {'time': 1573106400, 'summary': 'Clear', 'icon': 'clear-day', 'precipIntensity': 0, 'precipProbability': 0, 'temperature': 70.99, 'apparentTemperature': 71.16, 'dewPoint': 61.41, 'humidity': 0.72, 'pressure': 1012.5, 'windSpeed': 11.18, 'windGust': 17.5, 'windBearing': 25, 'cloudCover': 0.02, 'uvIndex': 6, 'visibility': 10, 'ozone': 258.4}, {'time': 1573110000, 'summary': 'Clear', 'icon': 'clear-day', 'precipIntensity': 0, 'precipProbability': 0, 'temperature': 71.08, 'apparentTemperature': 71.25, 'dewPoint': 61.41, 'humidity': 0.72, 'pressure': 1012.1, 'windSpeed': 10.49, 'windGust': 16.79, 'windBearing': 29, 'cloudCover': 0.03, 'uvIndex': 3, 'visibility': 10, 'ozone': 257.8}, {'time': 1573113600, 'summary': 'Clear', 'icon': 'clear-day', 'precipIntensity': 0, 'precipProbability': 0, 'temperature': 70.28, 'apparentTemperature': 70.47, 'dewPoint': 61.43, 'humidity': 0.74, 'pressure': 1012.1, 'windSpeed': 9.82, 'windGust': 16.05, 'windBearing': 32, 'cloudCover': 0.04, 'uvIndex': 1, 'visibility': 10, 'ozone': 256.8}, {'time': 1573117200, 'summary': 'Clear', 'icon': 'clear-day', 'precipIntensity': 0, 'precipProbability': 0, 'temperature': 68.72, 'apparentTemperature': 68.96, 'dewPoint': 61.64, 'humidity': 0.78, 'pressure': 1013, 'windSpeed': 9.22, 'windGust': 15.13, 'windBearing': 35, 'cloudCover': 0.05, 'uvIndex': 0, 'visibility': 10, 'ozone': 256.2}, {'time': 1573120800, 'summary': 'Clear', 'icon': 'clear-night', 'precipIntensity': 0, 'precipProbability': 0, 'temperature': 66.34, 'apparentTemperature': 66.75, 'dewPoint': 62.23, 'humidity': 0.87, 'pressure': 1013.8, 'windSpeed': 8.51, 'windGust': 13.72, 'windBearing': 37, 'cloudCover': 0.08, 'uvIndex': 0, 'visibility': 10, 'ozone': 256.1}, {'time': 1573124400, 'summary': 'Clear', 'icon': 'clear-night', 'precipIntensity': 0, 'precipProbability': 0, 'temperature': 64.4, 'apparentTemperature': 65.02, 'dewPoint': 63, 'humidity': 0.95, 'pressure': 1014.6, 'windSpeed': 8.54, 'windGust': 12.13, 'windBearing': 39, 'cloudCover': 0.12, 'uvIndex': 0, 'visibility': 10, 'ozone': 256.1}, {'time': 1573128000, 'summary': 'Clear', 'icon': 'clear-night', 'precipIntensity': 0, 'precipProbability': 0, 'temperature': 62.72, 'apparentTemperature': 63.56, 'dewPoint': 62.72, 'humidity': 1, 'pressure': 1015.4, 'windSpeed': 8.76, 'windGust': 11.09, 'windBearing': 39, 'cloudCover': 0.16, 'uvIndex': 0, 'visibility': 10, 'ozone': 256.3}, {'time': 1573131600, 'summary': 'Clear', 'icon': 'clear-night', 'precipIntensity': 0, 'precipProbability': 0, 'temperature': 61.73, 'apparentTemperature': 62.65, 'dewPoint': 61.73, 'humidity': 1, 'pressure': 1015.9, 'windSpeed': 8.85, 'windGust': 11.07, 'windBearing': 37, 'cloudCover': 0.16, 'uvIndex': 0, 'visibility': 10, 'ozone': 256.3}, {'time': 1573135200, 'summary': 'Clear', 'icon': 'clear-night', 'precipIntensity': 0, 'precipProbability': 0, 'temperature': 61.27, 'apparentTemperature': 62.21, 'dewPoint': 61.27, 'humidity': 1, 'pressure': 1016, 'windSpeed': 8.99, 'windGust': 11.61, 'windBearing': 32, 'cloudCover': 0.16, 'uvIndex': 0, 'visibility': 10, 'ozone': 256.3}, {'time': 1573138800, 'summary': 'Clear', 'icon': 'clear-night', 'precipIntensity': 0, 'precipProbability': 0, 'temperature': 60.75, 'apparentTemperature': 61.67, 'dewPoint': 60.75, 'humidity': 1, 'pressure': 1016.1, 'windSpeed': 9.01, 'windGust': 12.07, 'windBearing': 29, 'cloudCover': 0.16, 'uvIndex': 0, 'visibility': 10, 'ozone': 256.2}, {'time': 1573142400, 'summary': 'Clear', 'icon': 'clear-night', 'precipIntensity': 0, 'precipProbability': 0, 'temperature': 60.11, 'apparentTemperature': 60.94, 'dewPoint': 60.11, 'humidity': 1, 'pressure': 1015.9, 'windSpeed': 8.8, 'windGust': 12.38, 'windBearing': 29, 'cloudCover': 0.13, 'uvIndex': 0, 'visibility': 10, 'ozone': 255.9}, {'time': 1573146000, 'summary': 'Clear', 'icon': 'clear-night', 'precipIntensity': 0, 'precipProbability': 0, 'temperature': 59.66, 'apparentTemperature': 60.39, 'dewPoint': 59.66, 'humidity': 1, 'pressure': 1015.7, 'windSpeed': 8.89, 'windGust': 12.63, 'windBearing': 27, 'cloudCover': 0.11, 'uvIndex': 0, 'visibility': 10, 'ozone': 255.5}, {'time': 1573149600, 'summary': 'Clear', 'icon': 'clear-night', 'precipIntensity': 0, 'precipProbability': 0, 'temperature': 59.18, 'apparentTemperature': 59.83, 'dewPoint': 59.18, 'humidity': 1, 'pressure': 1015.1, 'windSpeed': 8.79, 'windGust': 12.56, 'windBearing': 25, 'cloudCover': 0.09, 'uvIndex': 0, 'visibility': 10, 'ozone': 255.1}, {'time': 1573153200, 'summary': 'Clear', 'icon': 'clear-night', 'precipIntensity': 0, 'precipProbability': 0, 'temperature': 58.48, 'apparentTemperature': 59.1, 'dewPoint': 58.48, 'humidity': 1, 'pressure': 1015.2, 'windSpeed': 8.37, 'windGust': 11.93, 'windBearing': 23, 'cloudCover': 0.07, 'uvIndex': 0, 'visibility': 10, 'ozone': 254.8}, {'time': 1573156800, 'summary': 'Clear', 'icon': 'clear-night', 'precipIntensity': 0, 'precipProbability': 0, 'temperature': 58.5, 'apparentTemperature': 59.05, 'dewPoint': 58.5, 'humidity': 1, 'pressure': 1015.6, 'windSpeed': 7.98, 'windGust': 10.96, 'windBearing': 20, 'cloudCover': 0.07, 'uvIndex': 0, 'visibility': 10, 'ozone': 254.5}, {'time': 1573160400, 'summary': 'Clear', 'icon': 'clear-night', 'precipIntensity': 0, 'precipProbability': 0, 'temperature': 58.88, 'apparentTemperature': 59.34, 'dewPoint': 58.88, 'humidity': 1, 'pressure': 1016.4, 'windSpeed': 7.76, 'windGust': 10.1, 'windBearing': 18, 'cloudCover': 0.06, 'uvIndex': 0, 'visibility': 10, 'ozone': 254.4}, {'time': 1573164000, 'summary': 'Clear', 'icon': 'clear-night', 'precipIntensity': 0, 'precipProbability': 0, 'temperature': 59.25, 'apparentTemperature': 59.59, 'dewPoint': 59.25, 'humidity': 1, 'pressure': 1017.2, 'windSpeed': 7.6, 'windGust': 9.4, 'windBearing': 15, 'cloudCover': 0.02, 'uvIndex': 0, 'visibility': 10, 'ozone': 254.1}, {'time': 1573167600, 'summary': 'Clear', 'icon': 'clear-day', 'precipIntensity': 0, 'precipProbability': 0, 'temperature': 59.8, 'apparentTemperature': 60.01, 'dewPoint': 58.77, 'humidity': 0.96, 'pressure': 1018.1, 'windSpeed': 7.4, 'windGust': 9.16, 'windBearing': 13, 'cloudCover': 0.02, 'uvIndex': 0, 'visibility': 10, 'ozone': 254}, {'time': 1573171200, 'summary': 'Clear', 'icon': 'clear-day', 'precipIntensity': 0.0003, 'precipProbability': 0.01, 'precipType': 'rain', 'temperature': 61.29, 'apparentTemperature': 61.38, 'dewPoint': 58.55, 'humidity': 0.91, 'pressure': 1018.8, 'windSpeed': 7.49, 'windGust': 9.37, 'windBearing': 14, 'cloudCover': 0.03, 'uvIndex': 1, 'visibility': 10, 'ozone': 253.7}, {'time': 1573174800, 'summary': 'Clear', 'icon': 'clear-day', 'precipIntensity': 0, 'precipProbability': 0, 'temperature': 63.06, 'apparentTemperature': 63.08, 'dewPoint': 58.64, 'humidity': 0.85, 'pressure': 1019.2, 'windSpeed': 8.14, 'windGust': 9.87, 'windBearing': 19, 'cloudCover': 0.03, 'uvIndex': 3, 'visibility': 10, 'ozone': 253.4}, {'time': 1573178400, 'summary': 'Clear', 'icon': 'clear-day', 'precipIntensity': 0, 'precipProbability': 0, 'temperature': 65.01, 'apparentTemperature': 65.01, 'dewPoint': 58.93, 'humidity': 0.81, 'pressure': 1019.1, 'windSpeed': 8.93, 'windGust': 10.31, 'windBearing': 28, 'cloudCover': 0.01, 'uvIndex': 5, 'visibility': 10, 'ozone': 253}, {'time': 1573182000, 'summary': 'Clear', 'icon': 'clear-day', 'precipIntensity': 0, 'precipProbability': 0, 'temperature': 66.88, 'apparentTemperature': 66.88, 'dewPoint': 59.27, 'humidity': 0.77, 'pressure': 1018.8, 'windSpeed': 9.92, 'windGust': 10.97, 'windBearing': 35, 'cloudCover': 0, 'uvIndex': 7, 'visibility': 10, 'ozone': 252.6}, {'time': 1573185600, 'summary': 'Clear', 'icon': 'clear-day', 'precipIntensity': 0, 'precipProbability': 0, 'temperature': 68.72, 'apparentTemperature': 68.72, 'dewPoint': 59.46, 'humidity': 0.72, 'pressure': 1018.1, 'windSpeed': 9.83, 'windGust': 10.87, 'windBearing': 42, 'cloudCover': 0, 'uvIndex': 8, 'visibility': 10, 'ozone': 252.8}, {'time': 1573189200, 'summary': 'Clear', 'icon': 'clear-day', 'precipIntensity': 0, 'precipProbability': 0, 'temperature': 69.8, 'apparentTemperature': 69.84, 'dewPoint': 60.21, 'humidity': 0.72, 'pressure': 1017.1, 'windSpeed': 9.45, 'windGust': 10.95, 'windBearing': 50, 'cloudCover': 0, 'uvIndex': 7, 'visibility': 10, 'ozone': 253.1}, {'time': 1573192800, 'summary': 'Clear', 'icon': 'clear-day', 'precipIntensity': 0, 'precipProbability': 0, 'temperature': 70.15, 'apparentTemperature': 70.29, 'dewPoint': 61.05, 'humidity': 0.73, 'pressure': 1016.2, 'windSpeed': 8.96, 'windGust': 11.34, 'windBearing': 56, 'cloudCover': 0, 'uvIndex': 6, 'visibility': 10, 'ozone': 253.1}, {'time': 1573196400, 'summary': 'Clear', 'icon': 'clear-day', 'precipIntensity': 0, 'precipProbability': 0, 'temperature': 69.96, 'apparentTemperature': 70.18, 'dewPoint': 61.67, 'humidity': 0.75, 'pressure': 1015.8, 'windSpeed': 8.62, 'windGust': 11.21, 'windBearing': 63, 'cloudCover': 0, 'uvIndex': 3, 'visibility': 10, 'ozone': 252.8}, {'time': 1573200000, 'summary': 'Clear', 'icon': 'clear-day', 'precipIntensity': 0, 'precipProbability': 0, 'temperature': 69.06, 'apparentTemperature': 69.37, 'dewPoint': 62.25, 'humidity': 0.79, 'pressure': 1015.8, 'windSpeed': 8.39, 'windGust': 10.87, 'windBearing': 65, 'cloudCover': 0, 'uvIndex': 1, 'visibility': 10, 'ozone': 252.2}, {'time': 1573203600, 'summary': 'Clear', 'icon': 'clear-day', 'precipIntensity': 0, 'precipProbability': 0, 'temperature': 67.23, 'apparentTemperature': 67.74, 'dewPoint': 63.21, 'humidity': 0.87, 'pressure': 1016.1, 'windSpeed': 8.29, 'windGust': 10.96, 'windBearing': 66, 'cloudCover': 0, 'uvIndex': 0, 'visibility': 10, 'ozone': 251.7}, {'time': 1573207200, 'summary': 'Clear', 'icon': 'clear-night', 'precipIntensity': 0, 'precipProbability': 0, 'temperature': 64.58, 'apparentTemperature': 65.44, 'dewPoint': 64.58, 'humidity': 1, 'pressure': 1016.7, 'windSpeed': 8, 'windGust': 11.95, 'windBearing': 66, 'cloudCover': 0.01, 'uvIndex': 0, 'visibility': 10, 'ozone': 251.5}, {'time': 1573210800, 'summary': 'Clear', 'icon': 'clear-night', 'precipIntensity': 0, 'precipProbability': 0, 'temperature': 62.57, 'apparentTemperature': 63.91, 'dewPoint': 62.57, 'humidity': 1, 'pressure': 1017.6, 'windSpeed': 8.04, 'windGust': 13.38, 'windBearing': 67, 'cloudCover': 0.01, 'uvIndex': 0, 'visibility': 10, 'ozone': 251.5}, {'time': 1573214400, 'summary': 'Clear', 'icon': 'clear-night', 'precipIntensity': 0, 'precipProbability': 0, 'temperature': 61.11, 'apparentTemperature': 62.92, 'dewPoint': 61.11, 'humidity': 1, 'pressure': 1018.2, 'windSpeed': 8.22, 'windGust': 14.68, 'windBearing': 66, 'cloudCover': 0.02, 'uvIndex': 0, 'visibility': 10, 'ozone': 251.7}, {'time': 1573218000, 'summary': 'Clear', 'icon': 'clear-night', 'precipIntensity': 0, 'precipProbability': 0, 'temperature': 60.42, 'apparentTemperature': 62.41, 'dewPoint': 60.42, 'humidity': 1, 'pressure': 1018.6, 'windSpeed': 8.27, 'windGust': 15.56, 'windBearing': 67, 'cloudCover': 0.03, 'uvIndex': 0, 'visibility': 10, 'ozone': 252}, {'time': 1573221600, 'summary': 'Clear', 'icon': 'clear-night', 'precipIntensity': 0, 'precipProbability': 0, 'temperature': 60.43, 'apparentTemperature': 62.41, 'dewPoint': 60.43, 'humidity': 1, 'pressure': 1018.7, 'windSpeed': 8.25, 'windGust': 16.31, 'windBearing': 66, 'cloudCover': 0.03, 'uvIndex': 0, 'visibility': 10, 'ozone': 252.6}, {'time': 1573225200, 'summary': 'Clear', 'icon': 'clear-night', 'precipIntensity': 0, 'precipProbability': 0, 'temperature': 60.47, 'apparentTemperature': 62.45, 'dewPoint': 60.47, 'humidity': 1, 'pressure': 1018.5, 'windSpeed': 8.5, 'windGust': 17.05, 'windBearing': 64, 'cloudCover': 0.06, 'uvIndex': 0, 'visibility': 10, 'ozone': 253}, {'time': 1573228800, 'summary': 'Clear', 'icon': 'clear-night', 'precipIntensity': 0, 'precipProbability': 0, 'temperature': 60.37, 'apparentTemperature': 62.34, 'dewPoint': 60.37, 'humidity': 1, 'pressure': 1018.2, 'windSpeed': 8.92, 'windGust': 18, 'windBearing': 64, 'cloudCover': 0.05, 'uvIndex': 0, 'visibility': 10, 'ozone': 253.1}, {'time': 1573232400, 'summary': 'Clear', 'icon': 'clear-night', 'precipIntensity': 0, 'precipProbability': 0, 'temperature': 59.99, 'apparentTemperature': 61.96, 'dewPoint': 59.99, 'humidity': 1, 'pressure': 1017.4, 'windSpeed': 9.54, 'windGust': 18.91, 'windBearing': 61, 'cloudCover': 0.1, 'uvIndex': 0, 'visibility': 10, 'ozone': 253.1}]}, 'daily': {'summary': 'No precipitation throughout the week.', 'icon': 'clear-day', 'data': [{'time': 1573056000, 'summary': 'Clear throughout the day.', 'icon': 'clear-day', 'sunriseTime': 1573079520, 'sunsetTime': 1573119900, 'moonPhase': 0.34, 'precipIntensity': 0, 'precipIntensityMax': 0.0002, 'precipIntensityMaxTime': 1573095600, 'precipProbability': 0.01, 'temperatureHigh': 71.65, 'temperatureHighTime': 1573108680, 'temperatureLow': 57.92, 'temperatureLowTime': 1573154640, 'apparentTemperatureHigh': 71.32, 'apparentTemperatureHighTime': 1573108620, 'apparentTemperatureLow': 59.01, 'apparentTemperatureLowTime': 1573155060, 'dewPoint': 61.19, 'humidity': 0.89, 'pressure': 1013.9, 'windSpeed': 9.09, 'windGust': 19.6, 'windGustTime': 1573096980, 'windBearing': 30, 'cloudCover': 0.14, 'uvIndex': 8, 'uvIndexTime': 1573099500, 'visibility': 9.67, 'ozone': 257.9, 'temperatureMin': 58.39, 'temperatureMinTime': 1573071960, 'temperatureMax': 71.65, 'temperatureMaxTime': 1573108680, 'apparentTemperatureMin': 60.53, 'apparentTemperatureMinTime': 1573076820, 'apparentTemperatureMax': 71.32, 'apparentTemperatureMaxTime': 1573108620}, {'time': 1573142400, 'summary': 'Clear throughout the day.', 'icon': 'clear-day', 'sunriseTime': 1573165920, 'sunsetTime': 1573206240, 'moonPhase': 0.37, 'precipIntensity': 0.0001, 'precipIntensityMax': 0.0003, 'precipIntensityMaxTime': 1573171080, 'precipProbability': 0.03, 'precipType': 'rain', 'temperatureHigh': 70.66, 'temperatureHighTime': 1573193460, 'temperatureLow': 57, 'temperatureLowTime': 1573244280, 'apparentTemperatureHigh': 70.32, 'apparentTemperatureHighTime': 1573194000, 'apparentTemperatureLow': 59.39, 'apparentTemperatureLowTime': 1573245120, 'dewPoint': 60.22, 'humidity': 0.91, 'pressure': 1017.2, 'windSpeed': 8.45, 'windGust': 18, 'windGustTime': 1573228800, 'windBearing': 43, 'cloudCover': 0.03, 'uvIndex': 8, 'uvIndexTime': 1573185960, 'visibility': 10, 'ozone': 253.2, 'temperatureMin': 57.92, 'temperatureMinTime': 1573154640, 'temperatureMax': 70.66, 'temperatureMaxTime': 1573193460, 'apparentTemperatureMin': 59.01, 'apparentTemperatureMinTime': 1573155060, 'apparentTemperatureMax': 70.32, 'apparentTemperatureMaxTime': 1573194000}, {'time': 1573228800, 'summary': 'Clear throughout the day.', 'icon': 'clear-day', 'sunriseTime': 1573252380, 'sunsetTime': 1573292640, 'moonPhase': 0.41, 'precipIntensity': 0, 'precipIntensityMax': 0.0002, 'precipIntensityMaxTime': 1573315200, 'precipProbability': 0.01, 'temperatureHigh': 68.23, 'temperatureHighTime': 1573278360, 'temperatureLow': 56.77, 'temperatureLowTime': 1573332120, 'apparentTemperatureHigh': 68.46, 'apparentTemperatureHighTime': 1573278600, 'apparentTemperatureLow': 58.75, 'apparentTemperatureLowTime': 1573333140, 'dewPoint': 61.2, 'humidity': 0.98, 'pressure': 1017.3, 'windSpeed': 11.51, 'windGust': 23.3, 'windGustTime': 1573312920, 'windBearing': 69, 'cloudCover': 0.19, 'uvIndex': 7, 'uvIndexTime': 1573270260, 'visibility': 10, 'ozone': 250, 'temperatureMin': 57, 'temperatureMinTime': 1573244280, 'temperatureMax': 68.23, 'temperatureMaxTime': 1573278360, 'apparentTemperatureMin': 59.39, 'apparentTemperatureMinTime': 1573245120, 'apparentTemperatureMax': 68.46, 'apparentTemperatureMaxTime': 1573278600}, {'time': 1573315200, 'summary': 'Clear throughout the day.', 'icon': 'clear-day', 'sunriseTime': 1573338840, 'sunsetTime': 1573378980, 'moonPhase': 0.44, 'precipIntensity': 0.0001, 'precipIntensityMax': 0.0003, 'precipIntensityMaxTime': 1573320600, 'precipProbability': 0.02, 'precipType': 'rain', 'temperatureHigh': 70.84, 'temperatureHighTime': 1573365900, 'temperatureLow': 59.29, 'temperatureLowTime': 1573414020, 'apparentTemperatureHigh': 70.51, 'apparentTemperatureHighTime': 1573366080, 'apparentTemperatureLow': 61.37, 'apparentTemperatureLowTime': 1573413600, 'dewPoint': 60.53, 'humidity': 0.93, 'pressure': 1015.6, 'windSpeed': 9.89, 'windGust': 23.16, 'windGustTime': 1573315200, 'windBearing': 77, 'cloudCover': 0, 'uvIndex': 8, 'uvIndexTime': 1573358760, 'visibility': 10, 'ozone': 244.6, 'temperatureMin': 56.77, 'temperatureMinTime': 1573332120, 'temperatureMax': 70.84, 'temperatureMaxTime': 1573365900, 'apparentTemperatureMin': 58.75, 'apparentTemperatureMinTime': 1573333140, 'apparentTemperatureMax': 70.51, 'apparentTemperatureMaxTime': 1573366080}, {'time': 1573401600, 'summary': 'Clear throughout the day.', 'icon': 'clear-day', 'sunriseTime': 1573425240, 'sunsetTime': 1573465380, 'moonPhase': 0.47, 'precipIntensity': 0.0001, 'precipIntensityMax': 0.0002, 'precipIntensityMaxTime': 1573463280, 'precipProbability': 0.03, 'precipType': 'rain', 'temperatureHigh': 70.4, 'temperatureHighTime': 1573446720, 'temperatureLow': 60.85, 'temperatureLowTime': 1573504440, 'apparentTemperatureHigh': 70.84, 'apparentTemperatureHighTime': 1573446600, 'apparentTemperatureLow': 63.35, 'apparentTemperatureLowTime': 1573503660, 'dewPoint': 63.35, 'humidity': 0.98, 'pressure': 1013.7, 'windSpeed': 7.55, 'windGust': 17.04, 'windGustTime': 1573488000, 'windBearing': 88, 'cloudCover': 0, 'uvIndex': 8, 'uvIndexTime': 1573445160, 'visibility': 10, 'ozone': 242.3, 'temperatureMin': 59.29, 'temperatureMinTime': 1573414020, 'temperatureMax': 70.4, 'temperatureMaxTime': 1573446720, 'apparentTemperatureMin': 61.37, 'apparentTemperatureMinTime': 1573413600, 'apparentTemperatureMax': 70.84, 'apparentTemperatureMaxTime': 1573446600}, {'time': 1573488000, 'summary': 'Clear throughout the day.', 'icon': 'clear-day', 'sunriseTime': 1573511700, 'sunsetTime': 1573551780, 'moonPhase': 0.5, 'precipIntensity': 0.0001, 'precipIntensityMax': 0.0003, 'precipIntensityMaxTime': 1573496700, 'precipProbability': 0.05, 'precipType': 'rain', 'temperatureHigh': 69.24, 'temperatureHighTime': 1573532040, 'temperatureLow': 60.83, 'temperatureLowTime': 1573593420, 'apparentTemperatureHigh': 70.24, 'apparentTemperatureHighTime': 1573531680, 'apparentTemperatureLow': 63.13, 'apparentTemperatureLowTime': 1573593720, 'dewPoint': 64.15, 'humidity': 1, 'pressure': 1015, 'windSpeed': 10.87, 'windGust': 21.11, 'windGustTime': 1573571820, 'windBearing': 87, 'cloudCover': 0.13, 'uvIndex': 7, 'uvIndexTime': 1573531860, 'visibility': 10, 'ozone': 239, 'temperatureMin': 60.85, 'temperatureMinTime': 1573504440, 'temperatureMax': 69.24, 'temperatureMaxTime': 1573532040, 'apparentTemperatureMin': 63.35, 'apparentTemperatureMinTime': 1573503660, 'apparentTemperatureMax': 70.24, 'apparentTemperatureMaxTime': 1573531680}, {'time': 1573574400, 'summary': 'Clear throughout the day.', 'icon': 'clear-day', 'sunriseTime': 1573598100, 'sunsetTime': 1573638120, 'moonPhase': 0.53, 'precipIntensity': 0.0001, 'precipIntensityMax': 0.0003, 'precipIntensityMaxTime': 1573585200, 'precipProbability': 0.06, 'precipType': 'rain', 'temperatureHigh': 71.14, 'temperatureHighTime': 1573621560, 'temperatureLow': 61.04, 'temperatureLowTime': 1573678740, 'apparentTemperatureHigh': 71.57, 'apparentTemperatureHighTime': 1573621680, 'apparentTemperatureLow': 62.56, 'apparentTemperatureLowTime': 1573680000, 'dewPoint': 64.34, 'humidity': 0.98, 'pressure': 1016.1, 'windSpeed': 9.33, 'windGust': 20.92, 'windGustTime': 1573574400, 'windBearing': 82, 'cloudCover': 0.21, 'uvIndex': 8, 'uvIndexTime': 1573617960, 'visibility': 10, 'ozone': 236.1, 'temperatureMin': 60.83, 'temperatureMinTime': 1573593420, 'temperatureMax': 71.14, 'temperatureMaxTime': 1573621560, 'apparentTemperatureMin': 63.13, 'apparentTemperatureMinTime': 1573593720, 'apparentTemperatureMax': 71.57, 'apparentTemperatureMaxTime': 1573621680}, {'time': 1573660800, 'summary': 'Mostly cloudy throughout the day.', 'icon': 'partly-cloudy-day', 'sunriseTime': 1573684560, 'sunsetTime': 1573724520, 'moonPhase': 0.56, 'precipIntensity': 0.0001, 'precipIntensityMax': 0.0004, 'precipIntensityMaxTime': 1573736400, 'precipProbability': 0.05, 'precipType': 'rain', 'temperatureHigh': 71.34, 'temperatureHighTime': 1573711260, 'temperatureLow': 56.7, 'temperatureLowTime': 1573763280, 'apparentTemperatureHigh': 71.22, 'apparentTemperatureHighTime': 1573711260, 'apparentTemperatureLow': 58.14, 'apparentTemperatureLowTime': 1573767000, 'dewPoint': 62.35, 'humidity': 0.93, 'pressure': 1017.1, 'windSpeed': 12.91, 'windGust': 38.55, 'windGustTime': 1573732200, 'windBearing': 48, 'cloudCover': 0.7, 'uvIndex': 5, 'uvIndexTime': 1573704000, 'visibility': 10, 'ozone': 236.3, 'temperatureMin': 58.76, 'temperatureMinTime': 1573747200, 'temperatureMax': 71.34, 'temperatureMaxTime': 1573711260, 'apparentTemperatureMin': 60.4, 'apparentTemperatureMinTime': 1573747200, 'apparentTemperatureMax': 71.22, 'apparentTemperatureMaxTime': 1573711260}]}, 'flags': {'sources': ['cmc', 'gfs', 'icon', 'isd', 'madis'], 'nearest-station': 3.532, 'units': 'us'}, 'offset': 8}\n"
     ]
    }
   ],
   "source": [
    "#get wind direction information\n",
    "url = \"https://api.darksky.net/forecast/\" + API_key + \"/\" + orig_location\n",
    "jsn = requests.get(url)\n",
    "if jsn.status_code != 200:\n",
    "    raise ApiError('GET /tasks/ {}'.format(jsn.status_code))\n",
    "else:\n",
    "    result = jsn.json()\n",
    "    \n",
    "    \n",
    "print(result)"
   ]
  },
  {
   "cell_type": "code",
   "execution_count": 15,
   "metadata": {},
   "outputs": [
    {
     "name": "stdout",
     "output_type": "stream",
     "text": [
      "6.6 10.71 72\n"
     ]
    }
   ],
   "source": [
    "wind_speed= (result['currently']['windSpeed'])\n",
    "wind_gust = (result['currently']['windGust'])\n",
    "wind_bearing=(result['currently']['windBearing'])\n",
    "print (wind_speed, wind_gust, wind_bearing)"
   ]
  },
  {
   "cell_type": "code",
   "execution_count": null,
   "metadata": {},
   "outputs": [],
   "source": []
  },
  {
   "cell_type": "code",
   "execution_count": 16,
   "metadata": {},
   "outputs": [
    {
     "name": "stdout",
     "output_type": "stream",
     "text": [
      "300\n"
     ]
    }
   ],
   "source": [
    "if wind_speed <= 2: \n",
    "    calc_distance = 50\n",
    "elif wind_speed > 2 and wind_speed <= 4: \n",
    "    calc_distance = 100\n",
    "elif wind_speed > 4 and wind_speed <= 7: \n",
    "    calc_distance = 300\n",
    "elif wind_speed >7 and wind_speed <= 10:\n",
    "    calc_distance = 500\n",
    "elif wind_speed >10 and wind_speed <= 13: \n",
    "    calc_distance = 1000\n",
    "elif wind_speed >13 and wind_speed <= 17:\n",
    "    calc_distance = 2500\n",
    "elif wind_speed >17 and windspeed <= 20:\n",
    "    calc_distance = 5000\n",
    "else: \n",
    "    calc_distance = 8000\n",
    "    \n",
    "print (calc_distance)"
   ]
  },
  {
   "cell_type": "code",
   "execution_count": 17,
   "metadata": {},
   "outputs": [],
   "source": [
    "if wind_bearing == 0: \n",
    "    add_lat = 0\n",
    "    add_lng = calc_distance\n",
    "elif wind_bearing == 90:\n",
    "    add_lat = calc_distance\n",
    "    add_lng = 0\n",
    "elif wind_bearing == 180: \n",
    "    add_lat = 0\n",
    "    add_lng = 0-calc_distance\n",
    "elif wind_bearing == 270: \n",
    "    add_lat = 0-calc_distance\n",
    "    add_lng = 0\n",
    "\n",
    "elif wind_bearing > 0 and wind_bearing <= 45:\n",
    "    add_lat = calc_distance * math.sin (wind_bearing)\n",
    "    add_lng = calc_distance * math.sin(90-wind_bearing)\n",
    "elif wind_bearing > 45 and wind_bearing < 90:\n",
    "    add_lat = calc_distance * math.sin(90-wind_bearing)\n",
    "    add_lng = calc_distance * math.sin (wind_bearing)\n",
    "\n",
    "elif wind_bearing > 90 and wind_bearing <= 135:\n",
    "    wind_bearing_1 = wind_bearing - 90\n",
    "    add_lat = calc_distance * math.sin (90 - wind_bearing_1)\n",
    "    add_lng = calc_distance * math.sin (wind_bearing_1)\n",
    "elif wind_bearing > 135 and wind_bearing < 180: \n",
    "    wind_bearing_1 = wind_bearing -90\n",
    "    add_lat = calc_distance * math.sin (wind_bearing_1)\n",
    "    add_lng = calc_distance * math.sin (90 - wind_bearing_1)\n",
    "    \n",
    "elif wind_bearing > 180 and wind_bearing <= 225: \n",
    "    wind_bearing_1 = wind_bearing - 180\n",
    "    add_lat = calc_distance * math.sin (wind_bearing_1)\n",
    "    add_lng = calc_distance * math.sin (90 - wind_bearing_1)\n",
    "elif wind_bearing > 225 and wind_bearing < 270:\n",
    "    wind_bearing_1 = wind_bearing - 180\n",
    "    add_lat = calc_distance * math.sin (90 - wind_bearing_1)\n",
    "    add_lng = calc_distance * math.sin (wind_bearing_1)\n",
    "    \n",
    "elif wind_bearing > 270 and wind_bearing <= 315:\n",
    "    wind_bearing_1 = wind_bearing - 270\n",
    "    add_lat = calc_distance * math.sin (90 - wind_bearing_1)\n",
    "    add_lng = calc_distance * math.sin (wind_bearing_1)\n",
    "else:\n",
    "    wind_bearing_1 = wind_bearing - 270\n",
    "    add_lat = calc_distance * math.sin (wind_bearing_1)\n",
    "    add_lng = calc_distance * math.sin (90 - wind_bearing_1)"
   ]
  },
  {
   "cell_type": "code",
   "execution_count": 18,
   "metadata": {},
   "outputs": [
    {
     "name": "stdout",
     "output_type": "stream",
     "text": [
      "-225.29617403150286\n",
      "76.14700882861088\n"
     ]
    }
   ],
   "source": [
    "print(add_lat)\n",
    "print(add_lng)"
   ]
  },
  {
   "cell_type": "code",
   "execution_count": null,
   "metadata": {},
   "outputs": [],
   "source": []
  },
  {
   "cell_type": "code",
   "execution_count": 19,
   "metadata": {},
   "outputs": [],
   "source": [
    "degree_add_lat = add_lat / 69\n",
    "degree_add_lng = add_lng / 69\n",
    "\n",
    "target_lat = orig_lat + degree_add_lat\n",
    "target_lng = orig_lng + degree_add_lng\n",
    "\n",
    "target = str(target_lat)+\",\"+str(target_lng)\n",
    "#print (target)\n",
    "target_location = nom.reverse(target, timeout=10)"
   ]
  },
  {
   "cell_type": "code",
   "execution_count": 20,
   "metadata": {
    "scrolled": true
   },
   "outputs": [
    {
     "name": "stdout",
     "output_type": "stream",
     "text": [
      "None\n"
     ]
    }
   ],
   "source": [
    "address=target_location[0]\n",
    "print (address)"
   ]
  },
  {
   "cell_type": "code",
   "execution_count": 22,
   "metadata": {},
   "outputs": [],
   "source": [
    "from newsapi import NewsApiClient\n",
    "\n",
    "# Init\n",
    "newsapi = NewsApiClient(api_key='472930a6e30f4a75911831335b96bec6')\n",
    "\n",
    "# /v2/top-headlines\n",
    "#top_headlines = newsapi.get_top_headlines(q='West Milford',\n",
    "#                                          language='en',\n",
    "#                                          country='us')\n",
    "\n",
    "# /v2/everything\n",
    "#all_articles = newsapi.get_everything(q='bitcoin',\n",
    "#                                      sources='bbc-news,the-verge',\n",
    "#                                      domains='bbc.co.uk,techcrunch.com',\n",
    "#                                      from_param='2017-12-01',\n",
    "#                                     to='2017-12-12',\n",
    "#                                      language='en',\n",
    "#                                      sort_by='relevancy',\n",
    "#                                      page=2)\n",
    "\n",
    "# /v2/sources\n",
    "sources = newsapi.get_sources()"
   ]
  },
  {
   "cell_type": "raw",
   "metadata": {},
   "source": []
  },
  {
   "cell_type": "code",
   "execution_count": 24,
   "metadata": {},
   "outputs": [],
   "source": [
    "sources_str = ''\n",
    "for i in range(100):\n",
    "    sources_str = sources_str + ','+(sources['sources'][i]['id'])"
   ]
  },
  {
   "cell_type": "code",
   "execution_count": 25,
   "metadata": {},
   "outputs": [
    {
     "name": "stdout",
     "output_type": "stream",
     "text": [
      ",abc-news,abc-news-au,aftenposten,al-jazeera-english,ansa,argaam,ars-technica,ary-news,associated-press,australian-financial-review,axios,bbc-news,bbc-sport,bild,blasting-news-br,bleacher-report,bloomberg,breitbart-news,business-insider,business-insider-uk,buzzfeed,cbc-news,cbs-news,cnbc,cnn,cnn-es,crypto-coins-news,der-tagesspiegel,die-zeit,el-mundo,engadget,entertainment-weekly,espn,espn-cric-info,financial-post,focus,football-italia,fortune,four-four-two,fox-news,fox-sports,globo,google-news,google-news-ar,google-news-au,google-news-br,google-news-ca,google-news-fr,google-news-in,google-news-is,google-news-it,google-news-ru,google-news-sa,google-news-uk,goteborgs-posten,gruenderszene,hacker-news,handelsblatt,ign,il-sole-24-ore,independent,infobae,info-money,la-gaceta,la-nacion,la-repubblica,le-monde,lenta,lequipe,les-echos,liberation,marca,mashable,medical-news-today,msnbc,mtv-news,mtv-news-uk,national-geographic,national-review,nbc-news,news24,new-scientist,news-com-au,newsweek,new-york-magazine,next-big-future,nfl-news,nhl-news,nrk,politico,polygon,rbc,recode,reddit-r-all,reuters,rt,rte,rtl-nieuws,sabq,spiegel-online\n"
     ]
    }
   ],
   "source": [
    "print (sources_str)"
   ]
  },
  {
   "cell_type": "code",
   "execution_count": 26,
   "metadata": {},
   "outputs": [],
   "source": [
    "top_headlines = newsapi.get_top_headlines(q= 'New Jersey',\n",
    "                                          sources= sources_str,\n",
    "                                          language='en')"
   ]
  },
  {
   "cell_type": "code",
   "execution_count": 27,
   "metadata": {},
   "outputs": [
    {
     "name": "stdout",
     "output_type": "stream",
     "text": [
      "{'status': 'ok', 'totalResults': 0, 'articles': []}\n"
     ]
    }
   ],
   "source": [
    "print(top_headlines)"
   ]
  }
 ],
 "metadata": {
  "kernelspec": {
   "display_name": "Python 3",
   "language": "python",
   "name": "python3"
  },
  "language_info": {
   "codemirror_mode": {
    "name": "ipython",
    "version": 3
   },
   "file_extension": ".py",
   "mimetype": "text/x-python",
   "name": "python",
   "nbconvert_exporter": "python",
   "pygments_lexer": "ipython3",
   "version": "3.6.9"
  }
 },
 "nbformat": 4,
 "nbformat_minor": 2
}
